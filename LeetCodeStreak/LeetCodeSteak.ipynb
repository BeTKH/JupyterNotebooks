{
 "cells": [
  {
   "cell_type": "markdown",
   "id": "e2595e2e",
   "metadata": {},
   "source": [
    "# Leet code streak"
   ]
  },
  {
   "cell_type": "markdown",
   "id": "22a0ccdd",
   "metadata": {},
   "source": [
    "### 705. Design HashSet \n",
    "Easy\n",
    "\n",
    "company (Microsoft Apple Amazon )\n",
    "\n",
    "Design a HashSet without using any built-in hash table libraries.\n",
    "\n",
    "Implement MyHashSet class:\n",
    "\n",
    "void add(key) Inserts the value key into the HashSet.\n",
    "bool contains(key) Returns whether the value key exists in the HashSet or not.\n",
    "void remove(key) Removes the value key in the HashSet. If key does not exist in the HashSet, do nothing."
   ]
  },
  {
   "cell_type": "code",
   "execution_count": 2,
   "id": "6002a87c",
   "metadata": {},
   "outputs": [],
   "source": [
    "\"\"\"\n",
    "\n",
    "Example 1:\n",
    "\n",
    "Input\n",
    "[\"MyHashSet\", \"add\", \"add\", \"contains\", \"contains\", \"add\", \"contains\", \"remove\", \"contains\"]\n",
    "[[], [1], [2], [1], [3], [2], [2], [2], [2]]\n",
    "Output\n",
    "[null, null, null, true, false, null, true, null, false]\n",
    "\n",
    "Explanation\n",
    "MyHashSet myHashSet = new MyHashSet();\n",
    "myHashSet.add(1);      // set = [1]\n",
    "myHashSet.add(2);      // set = [1, 2]\n",
    "myHashSet.contains(1); // return True\n",
    "myHashSet.contains(3); // return False, (not found)\n",
    "myHashSet.add(2);      // set = [1, 2]\n",
    "myHashSet.contains(2); // return True\n",
    "myHashSet.remove(2);   // set = [1]\n",
    "myHashSet.contains(2); // return False, (already removed)\n",
    "\n",
    "\n",
    "Constraints:\n",
    "\n",
    "0 <= key <= 106\n",
    "At most 104 calls will be made to add, remove, and contains.\n",
    "\n",
    "\"\"\"\n",
    "\n",
    "\n",
    "class MyHashSet(object):\n",
    "\n",
    "    def __init__(self):\n",
    "\n",
    "        self.hashset = [False] * 1000001\n",
    "        \n",
    "\n",
    "    def add(self, key):\n",
    "        \"\"\"\n",
    "        :type key: int\n",
    "        :rtype: None\n",
    "        \"\"\"\n",
    "        self.hashset[key] = True\n",
    "        \n",
    "\n",
    "    def remove(self, key):\n",
    "        \"\"\"\n",
    "        :type key: int\n",
    "        :rtype: None\n",
    "        \"\"\"\n",
    "        self.hashset[key] = False\n",
    "        \n",
    "\n",
    "    def contains(self, key):\n",
    "        \"\"\"\n",
    "        :type key: int\n",
    "        :rtype: bool\n",
    "        \"\"\"\n",
    "        return self.hashset[key]\n",
    "        \n",
    "\n",
    "\n",
    "# Your MyHashSet object will be instantiated and called as such:\n",
    "# obj = MyHashSet()\n",
    "# obj.add(key)\n",
    "# obj.remove(key)\n",
    "# param_3 = obj.contains(key)"
   ]
  },
  {
   "cell_type": "code",
   "execution_count": null,
   "id": "ad21c4ef",
   "metadata": {},
   "outputs": [],
   "source": []
  },
  {
   "cell_type": "code",
   "execution_count": null,
   "id": "ec574011",
   "metadata": {},
   "outputs": [],
   "source": []
  }
 ],
 "metadata": {
  "kernelspec": {
   "display_name": "Python 3 (ipykernel)",
   "language": "python",
   "name": "python3"
  },
  "language_info": {
   "codemirror_mode": {
    "name": "ipython",
    "version": 3
   },
   "file_extension": ".py",
   "mimetype": "text/x-python",
   "name": "python",
   "nbconvert_exporter": "python",
   "pygments_lexer": "ipython3",
   "version": "3.11.3"
  }
 },
 "nbformat": 4,
 "nbformat_minor": 5
}
